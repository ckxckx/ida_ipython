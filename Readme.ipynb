{
 "cells": [
  {
   "cell_type": "markdown",
   "source": [
    "# ReadMe before Installation \n",
    "\n",
    "1. 为ida安装 IDA_ipython插件 \n",
    "    - 将ida_ipython_OS.py拷贝到ida plugins目录下，在ida menue： plugins下确认到ida ipython字样表示安装成功\n",
    "    - 测试ipython kernel是否正常启动：menu下点击启动ida ipython，控制台回显 --existing kernel-XXXX.json\n",
    "        - 在终端下 jupyter console --existing kernel-XXXX.json 测试是否能够正常连接\n",
    "2. 为jupyter增加kernel选项 \n",
    "    - jupyter-kernelspec list 查看jupyter环境的可选核\n",
    "    - jupyter-kernel uninstall ida64  #移除\n",
    "    - jupyter-kernel install notebookkernelset/macos/ida64  #安装\n",
    "    - 测试kernel.json中的ida启动选项是否正确\n",
    "        - 在jupyter控制台查看报错信息\n",
    "    - 在jupyter notebook下键入python命令，观察是否阻塞\n"
   ],
   "metadata": {}
  }
 ],
 "metadata": {
  "orig_nbformat": 4,
  "language_info": {
   "name": "python",
   "version": "3.7.3",
   "mimetype": "text/x-python",
   "codemirror_mode": {
    "name": "ipython",
    "version": 3
   },
   "pygments_lexer": "ipython3",
   "nbconvert_exporter": "python",
   "file_extension": ".py"
  },
  "kernelspec": {
   "name": "python3",
   "display_name": "Python 3.7.3 64-bit"
  },
  "interpreter": {
   "hash": "31f2aee4e71d21fbe5cf8b01ff0e069b9275f58929596ceb00d14d90e3e16cd6"
  }
 },
 "nbformat": 4,
 "nbformat_minor": 2
}